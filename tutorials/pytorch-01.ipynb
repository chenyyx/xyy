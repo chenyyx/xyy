{
 "cells": [
  {
   "cell_type": "markdown",
   "metadata": {},
   "source": [
    "# PyTorch 实现线性回归\n",
    "\n",
    "上一篇教程中，我们基本介绍了 pytorch 里面的操作单元，Tensor，以及计算图中的操作单位 Variable，相信大家都已经熟悉了。\n",
    "\n",
    "今天这一部分，我们从这两个最基本的机器学习，线性回归以及 Logistic 回归来开始建立我们的计算图并进行计算。\n",
    "\n",
    "由于我们本次介绍的主要是 pytorch 的教程，所以每个算法的太多数学背景以及推导过程就不再细讲了，需要的同学可以自己找相应的教材去了解。  \n",
    "比如《统计学习方法》，《PRML》，周志华的《西瓜书》以及《机器学习实战》都可以了解到相应的内容。\n",
    "\n",
    "## 1、线性回归\n",
    "\n",
    "对于线性回归，我们这里简单地介绍一下一元线性回归。即给出一系列的点，找一条线，使得这条直线与这些点的距离之和最小。\n",
    "![线性回归](img/pt_lr_1.jpg)\n",
    "上面这张图就简单地描述了线性回归的基本原理，下面我们重点讲讲如何用 pytorch 写一个简单的线性回归。"
   ]
  },
  {
   "cell_type": "code",
   "execution_count": 26,
   "metadata": {
    "collapsed": true
   },
   "outputs": [],
   "source": [
    "# 引入第三方库\n",
    "import torch\n",
    "import numpy as np\n",
    "import matplotlib.pyplot as plt\n",
    "import torch.nn as nn\n",
    "import torch.optim as optim\n",
    "from torch.autograd import Variable"
   ]
  },
  {
   "cell_type": "markdown",
   "metadata": {},
   "source": [
    "### 1.1、数据\n",
    "首先我们需要给出一系列的点作为线性回归的数据，使用 numpy 来存储这些点。"
   ]
  },
  {
   "cell_type": "code",
   "execution_count": 14,
   "metadata": {},
   "outputs": [
    {
     "data": {
      "image/png": "[encoded data removed]",
      "text/plain": [
       "<matplotlib.figure.Figure at 0xa019390>"
      ]
     },
     "metadata": {},
     "output_type": "display_data"
    }
   ],
   "source": [
    "x_train = np.array([[3.3], [4.4], [5.5], [6.71], [6.93], [4.168],\n",
    "                    [9.779], [6.182], [7.59], [2.167], [7.042],\n",
    "                    [10.791], [5.313], [7.997], [3.1]], dtype=np.float32)\n",
    "\n",
    "y_train = np.array([[1.7], [2.76], [2.09], [3.19], [1.694], [1.573],\n",
    "                    [3.366], [2.596], [2.53], [1.221], [2.827],\n",
    "                    [3.465], [1.65], [2.904], [1.3]], dtype=np.float32)\n",
    "\n",
    "# 将数据点展示出来\n",
    "def data_plot(data, label):\n",
    "    fig = plt.figure()\n",
    "    ax = fig.add_subplot(111)  # add_subplot(349)函数的参数的意思是，将画布分成3行4列图像画在从左到右从上到下第9块\n",
    "    ax.scatter([data[:].flatten()],[label.T[:].flatten()])  # scatter 的x是 features，y是 label\n",
    "    plt.show()\n",
    "\n",
    "data_plot(x_train, y_train)"
   ]
  },
  {
   "cell_type": "markdown",
   "metadata": {},
   "source": [
    "还记得 pytorch 里面的基本处理单元吗？ Tensor ，我们需要将 numpy 转换成 Tensor ，如果你还记得上一节的内容，那么你一定知道怎么转换，也就是这个函数 torch.from_numpy()\n",
    "\n",
    "就像这样："
   ]
  },
  {
   "cell_type": "code",
   "execution_count": 16,
   "metadata": {
    "collapsed": true
   },
   "outputs": [],
   "source": [
    "# 将 numpy 的 array 转换成为 Tensor\n",
    "x_tensor = torch.from_numpy(x_train)\n",
    "y_tensor = torch.from_numpy(y_train)"
   ]
  },
  {
   "cell_type": "markdown",
   "metadata": {},
   "source": [
    "这样，我们的数据就转换成了 Tensor 。也就便于我们接下来的处理了。\n",
    "\n",
    "### 1.2、模型\n",
    "我们上一节讲了基本的模型框架，那么我们这一节就按照这个基本的框架来写出一个线性回归模型。"
   ]
  },
  {
   "cell_type": "code",
   "execution_count": 20,
   "metadata": {},
   "outputs": [],
   "source": [
    "class LinearRegression(nn.Module):\n",
    "    def __init__(self):\n",
    "        super(LinearRegression, self).__init__()\n",
    "        # 设置 线性回归\n",
    "        self.linear = nn.Linear(1, 1)  # 输入和输出都是 1 维的\n",
    "    # 定义前向传播函数，其实就是输出如何输出\n",
    "    def forward(self, x):\n",
    "        out = self.linear(x)\n",
    "        return out\n",
    "model = LinearRegression()"
   ]
  },
  {
   "cell_type": "markdown",
   "metadata": {},
   "source": [
    "这里的 nn.Linear() 表示的是 y = w * x + b ，里面的两个参数都是 1，表示的是 x 是 1 维的，y 也是 1 维的。当然这里是可以根据你想要的输入输出维度来更改的，之前使用的别的框架的同学应该对这里也比较熟悉吧。\n",
    "\n",
    "### 1.3、损失函数和优化器\n",
    "模型定义完成了，接下来就是需要定义 loss 和 optimizer ，就是误差和优化函数"
   ]
  },
  {
   "cell_type": "code",
   "execution_count": 24,
   "metadata": {},
   "outputs": [],
   "source": [
    "criterion = nn.MSELoss()\n",
    "optimizer = optim.SGD(model.parameters(), lr=1e-4)"
   ]
  },
  {
   "cell_type": "markdown",
   "metadata": {},
   "source": [
    "这里使用的是最小二乘 loss，之后我们做分类问题更多的使用的是 cross entropy loss，交叉熵。优化函数使用的是随机梯度下降，注意需要将 model 的参数 model.parameters() 传进去让这个函数知道它要优化的参数是哪些。\n",
    "\n",
    "### 1.4、训练\n",
    "该定义的都已经定义完成了，那我们开始训练吧。"
   ]
  },
  {
   "cell_type": "code",
   "execution_count": 28,
   "metadata": {},
   "outputs": [
    {
     "name": "stderr",
     "output_type": "stream",
     "text": [
      "D:\\anacondapy3.6\\lib\\site-packages\\ipykernel_launcher.py:16: UserWarning: invalid index of a 0-dim tensor. This will be an error in PyTorch 0.5. Use tensor.item() to convert a 0-dim tensor to a Python number\n",
      "  app.launch_new_instance()\n"
     ]
    },
    {
     "name": "stdout",
     "output_type": "stream",
     "text": [
      "Epoch[20/1000], loss: 1.012389\n",
      "Epoch[40/1000], loss: 0.880243\n",
      "Epoch[60/1000], loss: 0.786731\n",
      "Epoch[80/1000], loss: 0.720524\n",
      "Epoch[100/1000], loss: 0.673615\n",
      "Epoch[120/1000], loss: 0.640344\n",
      "Epoch[140/1000], loss: 0.616712\n",
      "Epoch[160/1000], loss: 0.599893\n",
      "Epoch[180/1000], loss: 0.587888\n",
      "Epoch[200/1000], loss: 0.579286\n",
      "Epoch[220/1000], loss: 0.573090\n",
      "Epoch[240/1000], loss: 0.568593\n",
      "Epoch[260/1000], loss: 0.565298\n",
      "Epoch[280/1000], loss: 0.562852\n",
      "Epoch[300/1000], loss: 0.561007\n",
      "Epoch[320/1000], loss: 0.559586\n",
      "Epoch[340/1000], loss: 0.558466\n",
      "Epoch[360/1000], loss: 0.557557\n",
      "Epoch[380/1000], loss: 0.556798\n",
      "Epoch[400/1000], loss: 0.556146\n",
      "Epoch[420/1000], loss: 0.555569\n",
      "Epoch[440/1000], loss: 0.555045\n",
      "Epoch[460/1000], loss: 0.554559\n",
      "Epoch[480/1000], loss: 0.554099\n",
      "Epoch[500/1000], loss: 0.553659\n",
      "Epoch[520/1000], loss: 0.553232\n",
      "Epoch[540/1000], loss: 0.552815\n",
      "Epoch[560/1000], loss: 0.552405\n",
      "Epoch[580/1000], loss: 0.552001\n",
      "Epoch[600/1000], loss: 0.551599\n",
      "Epoch[620/1000], loss: 0.551201\n",
      "Epoch[640/1000], loss: 0.550804\n",
      "Epoch[660/1000], loss: 0.550409\n",
      "Epoch[680/1000], loss: 0.550016\n",
      "Epoch[700/1000], loss: 0.549623\n",
      "Epoch[720/1000], loss: 0.549231\n",
      "Epoch[740/1000], loss: 0.548840\n",
      "Epoch[760/1000], loss: 0.548449\n",
      "Epoch[780/1000], loss: 0.548059\n",
      "Epoch[800/1000], loss: 0.547670\n",
      "Epoch[820/1000], loss: 0.547281\n",
      "Epoch[840/1000], loss: 0.546892\n",
      "Epoch[860/1000], loss: 0.546504\n",
      "Epoch[880/1000], loss: 0.546116\n",
      "Epoch[900/1000], loss: 0.545728\n",
      "Epoch[920/1000], loss: 0.545342\n",
      "Epoch[940/1000], loss: 0.544955\n",
      "Epoch[960/1000], loss: 0.544569\n",
      "Epoch[980/1000], loss: 0.544183\n",
      "Epoch[1000/1000], loss: 0.543798\n"
     ]
    }
   ],
   "source": [
    "# 设置迭代次数\n",
    "num_epochs = 1000\n",
    "for epoch in range(num_epochs):\n",
    "    inputs = Variable(x_tensor)\n",
    "    target = Variable(y_tensor)\n",
    "\n",
    "    # 前向传播\n",
    "    out = model(inputs) \n",
    "    loss = criterion(out, target) # 计算loss\n",
    "    # 反向传播\n",
    "    optimizer.zero_grad() # 梯度归零\n",
    "    loss.backward() # 反向传播\n",
    "    optimizer.step() # 更新参数\n",
    "\n",
    "    if (epoch+1) % 20 == 0:\n",
    "        print('Epoch[{}/{}], loss: {:.6f}'.format(epoch+1,num_epochs,loss.data[0]))"
   ]
  },
  {
   "cell_type": "markdown",
   "metadata": {},
   "source": [
    "第一个循环表示每个 epoch，接着开始前向传播，然后计算 loss，然后反向传播，接着优化函数，特别注意的是，在每次方向传播的时候需要将参数的梯度归零，即\n",
    "```python\n",
    "optimzier.zero_grad()\n",
    "```\n",
    "### 1.5、验证\n",
    "训练完成后，我们就可以开始测试模型了。"
   ]
  },
  {
   "cell_type": "code",
   "execution_count": 33,
   "metadata": {},
   "outputs": [
    {
     "name": "stdout",
     "output_type": "stream",
     "text": [
      "[[ 0.71657908]\n",
      " [ 1.26995254]\n",
      " [ 1.82332587]\n",
      " [ 2.43203688]\n",
      " [ 2.5427115 ]\n",
      " [ 1.15324116]\n",
      " [ 3.97594905]\n",
      " [ 2.1664176 ]\n",
      " [ 2.87473559]\n",
      " [ 0.14660442]\n",
      " [ 2.59905481]\n",
      " [ 4.48505211]\n",
      " [ 1.72925258]\n",
      " [ 3.07948375]\n",
      " [ 0.61596572]]\n"
     ]
    }
   ],
   "source": [
    "model.eval()\n",
    "predict = model(Variable(x_tensor))\n",
    "predict_np = predict.data.numpy()\n",
    "print(predict_np)"
   ]
  },
  {
   "cell_type": "markdown",
   "metadata": {},
   "source": [
    "特别注意的是，需要用 model.eval() ，让 model 变成测试模式，这主要是对 dropout 和 batch normalization 的操作在训练和测试的时候是不一样的。\n",
    "\n",
    "我们使用 matplotlib 再次将图形画出来，来看一下对比照。"
   ]
  },
  {
   "cell_type": "code",
   "execution_count": 42,
   "metadata": {},
   "outputs": [
    {
     "data": {
      "image/png": "[encoded data removed]",
      "text/plain": [
       "<matplotlib.figure.Figure at 0xa3e7b70>"
      ]
     },
     "metadata": {},
     "output_type": "display_data"
    }
   ],
   "source": [
    "# 将回归线展示出来\n",
    "def later_plot(data, label, yHat):\n",
    "    fig = plt.figure()\n",
    "    ax = fig.add_subplot(111)  # add_subplot(349)函数的参数的意思是，将画布分成3行4列图像画在从左到右从上到下第9块\n",
    "    ax.scatter([data[:].flatten()],[label.T[:].flatten()])  # scatter 的x是 features，y是 label\n",
    "    xCopy = data.copy()\n",
    "    xCopy.sort()\n",
    "    ax.plot(xCopy[:],yHat)\n",
    "    plt.show()\n",
    "\n",
    "later_plot(x_train, y_train, predict_np)"
   ]
  },
  {
   "cell_type": "markdown",
   "metadata": {},
   "source": [
    "## 2、小结\n",
    "ok，到这儿基本上就结束啦。我们使用了 pytorch 实现了简单的线性回归模型，掌握了 pytorch 的一些基本操作，下一节我们将使用 logistic 回归对 MNIST 手写字体数据集做识别。"
   ]
  }
 ],
 "metadata": {
  "kernelspec": {
   "display_name": "Python 3",
   "language": "python",
   "name": "python3"
  },
  "language_info": {
   "codemirror_mode": {
    "name": "ipython",
    "version": 3
   },
   "file_extension": ".py",
   "mimetype": "text/x-python",
   "name": "python",
   "nbconvert_exporter": "python",
   "pygments_lexer": "ipython3",
   "version": "3.6.3"
  }
 },
 "nbformat": 4,
 "nbformat_minor": 2
}
