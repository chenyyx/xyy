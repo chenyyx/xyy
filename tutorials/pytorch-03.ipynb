{
 "cells": [
  {
   "cell_type": "markdown",
   "metadata": {},
   "source": [
    "# 神经网络\n",
    "\n",
    "## 1、前言\n",
    "前面两节讲了最基本的机器学习算法，线性回归和 logistic 回归，这一节将介绍传统机器学习里面最后一个算法 —— 神经网络，这也是深度学习的基石。所谓的深度学习，也可以理解为很深层的神经网络。\n",
    "\n",
    "## 2、Neural Network\n",
    "其实简单的神经网络说起来很简单，先放图为敬：\n",
    "![](img/pt_3_1.jpg)\n",
    "\n",
    "通过图片就能很简单的看出来，其实每一层网络所做的就是 y = W x X + b，只不过 W 的维数由 X 和输出维数决定，比如 X 是 10 维向量，想要输出的维数，也就是中间层的神经元的个数为 20，那么 W 的维数就是 20x10， b 的维数就是 20x1，这样输出的 y 的维数就是 20 。\n",
    "\n",
    "中间层的维数可以自己设计，而最后一层输出的维数就是你的分类数目，比如我们等会要做的 MNIST 数据集是 10 个数字的分类，那么最后输出层的神经元就是 10 。\n",
    "\n",
    "## 3、构建模型\n",
    "\n",
    "有了前两节的经验，这一节的代码就很简单了，数据的导入和之前一样\n",
    "\n",
    "### 3.1、导入包和库"
   ]
  },
  {
   "cell_type": "code",
   "execution_count": 1,
   "metadata": {
    "collapsed": true
   },
   "outputs": [],
   "source": [
    "# 引入相应的第三方库和包\n",
    "import torch\n",
    "from torch import nn, optim\n",
    "\n",
    "from torch.autograd import Variable\n",
    "from torch.utils.data import DataLoader\n",
    "from torchvision import transforms\n",
    "from torchvision import datasets"
   ]
  },
  {
   "cell_type": "markdown",
   "metadata": {},
   "source": [
    "### 3.2、设置超参数"
   ]
  },
  {
   "cell_type": "code",
   "execution_count": 6,
   "metadata": {
    "collapsed": true
   },
   "outputs": [],
   "source": [
    "# 设置超参数\n",
    "batch_size = 32\n",
    "learning_rate = 1e-2\n",
    "num_epoches = 10"
   ]
  },
  {
   "cell_type": "markdown",
   "metadata": {},
   "source": [
    "### 3.3、MNIST 数据集"
   ]
  },
  {
   "cell_type": "code",
   "execution_count": 10,
   "metadata": {
    "collapsed": true
   },
   "outputs": [],
   "source": [
    "# 下载训练集 MNIST 手写数字训练集\n",
    "train_dataset = datasets.MNIST(root='./data', train=True, transform=transforms.ToTensor(), download=False)\n",
    "test_dataset = datasets.MNIST(root='./data', train=False, transform=transforms.ToTensor())\n",
    "\n",
    "# 构建数据加载器\n",
    "train_loader = DataLoader(train_dataset, batch_size=batch_size, shuffle=True)\n",
    "test_loader = DataLoader(test_dataset, batch_size=batch_size, shuffle=False)"
   ]
  },
  {
   "cell_type": "markdown",
   "metadata": {},
   "source": [
    "### 3.4、定义模型"
   ]
  },
  {
   "cell_type": "code",
   "execution_count": 11,
   "metadata": {
    "collapsed": true
   },
   "outputs": [],
   "source": [
    "# 定义简单的前馈神经网络\n",
    "class Neuralnetwork(nn.Module):\n",
    "    def __init__(self, in_dim, n_hidden_1, n_hidden_2, out_dim):\n",
    "        super(Neuralnetwork, self).__init__()\n",
    "        self.layer1 = nn.Linear(in_dim, n_hidden_1)\n",
    "        self.layer2 = nn.Linear(n_hidden_1, n_hidden_2)\n",
    "        self.layer3 = nn.Linear(n_hidden_2, out_dim)\n",
    "\n",
    "    def forward(self, x):\n",
    "        x = self.layer1(x)\n",
    "        x = self.layer2(x)\n",
    "        x = self.layer3(x)\n",
    "        return x\n",
    "\n",
    "\n",
    "model = Neuralnetwork(28 * 28, 300, 100, 10)\n",
    "if torch.cuda.is_available():\n",
    "    model = model.cuda()"
   ]
  },
  {
   "cell_type": "markdown",
   "metadata": {},
   "source": [
    "上面定义了三层神经网络，输入是 28x28 ，因为图片大小是 28x28，中间两个隐藏层大小分别是 300 和 100 ，最后是个 10 分类问题，所以输出层为 10 。\n",
    "\n",
    "训练过程与之前完全一样，我就不再重复了，可以直接去 github 参看完整的代码。\n",
    "\n",
    "这是迭代 10 次之后的输出结果，可以和上一节的 logistic 回归比较一下。"
   ]
  },
  {
   "cell_type": "markdown",
   "metadata": {},
   "source": [
    "### 3.5、设置 loss 和优化方法"
   ]
  },
  {
   "cell_type": "code",
   "execution_count": 12,
   "metadata": {
    "collapsed": true
   },
   "outputs": [],
   "source": [
    "# 设置损失函数和优化方法\n",
    "criterion = nn.CrossEntropyLoss()\n",
    "optimizer = optim.SGD(model.parameters(), lr=learning_rate)"
   ]
  },
  {
   "cell_type": "markdown",
   "metadata": {},
   "source": [
    "### 3.6、训练模型\n",
    "接下来我们开始训练模型"
   ]
  },
  {
   "cell_type": "code",
   "execution_count": 13,
   "metadata": {},
   "outputs": [
    {
     "name": "stdout",
     "output_type": "stream",
     "text": [
      "epoch 1\n",
      "**********\n"
     ]
    },
    {
     "name": "stderr",
     "output_type": "stream",
     "text": [
      "D:\\anacondapy3.6\\lib\\site-packages\\ipykernel_launcher.py:18: UserWarning: invalid index of a 0-dim tensor. This will be an error in PyTorch 0.5. Use tensor.item() to convert a 0-dim tensor to a Python number\n",
      "D:\\anacondapy3.6\\lib\\site-packages\\ipykernel_launcher.py:21: UserWarning: invalid index of a 0-dim tensor. This will be an error in PyTorch 0.5. Use tensor.item() to convert a 0-dim tensor to a Python number\n"
     ]
    },
    {
     "name": "stdout",
     "output_type": "stream",
     "text": [
      "[1/10] Loss: 1.965253, Acc: 0.000000\n",
      "[1/10] Loss: 1.515437, Acc: 0.000000\n",
      "[1/10] Loss: 1.235038, Acc: 0.000000\n",
      "[1/10] Loss: 1.058675, Acc: 0.000000\n",
      "[1/10] Loss: 0.937107, Acc: 0.000000\n",
      "[1/10] Loss: 0.852510, Acc: 0.000000\n",
      "Finish 1 epoch, Loss: 0.835322, Acc: 0.000000\n"
     ]
    },
    {
     "name": "stderr",
     "output_type": "stream",
     "text": [
      "D:\\anacondapy3.6\\lib\\site-packages\\ipykernel_launcher.py:40: UserWarning: volatile was removed and now has no effect. Use `with torch.no_grad():` instead.\n",
      "D:\\anacondapy3.6\\lib\\site-packages\\ipykernel_launcher.py:41: UserWarning: volatile was removed and now has no effect. Use `with torch.no_grad():` instead.\n",
      "D:\\anacondapy3.6\\lib\\site-packages\\ipykernel_launcher.py:44: UserWarning: invalid index of a 0-dim tensor. This will be an error in PyTorch 0.5. Use tensor.item() to convert a 0-dim tensor to a Python number\n",
      "D:\\anacondapy3.6\\lib\\site-packages\\ipykernel_launcher.py:47: UserWarning: invalid index of a 0-dim tensor. This will be an error in PyTorch 0.5. Use tensor.item() to convert a 0-dim tensor to a Python number\n"
     ]
    },
    {
     "name": "stdout",
     "output_type": "stream",
     "text": [
      "Test Loss: 0.383529, Acc: 0.000000\n",
      "\n",
      "epoch 2\n",
      "**********\n",
      "[2/10] Loss: 0.392071, Acc: 0.000000\n",
      "[2/10] Loss: 0.376297, Acc: 0.000000\n",
      "[2/10] Loss: 0.377588, Acc: 0.000000\n",
      "[2/10] Loss: 0.373689, Acc: 0.000000\n",
      "[2/10] Loss: 0.369380, Acc: 0.000000\n",
      "[2/10] Loss: 0.365048, Acc: 0.000000\n",
      "Finish 2 epoch, Loss: 0.362707, Acc: 0.000000\n",
      "Test Loss: 0.321266, Acc: 0.000000\n",
      "\n",
      "epoch 3\n",
      "**********\n",
      "[3/10] Loss: 0.335998, Acc: 0.000000\n",
      "[3/10] Loss: 0.329198, Acc: 0.000000\n",
      "[3/10] Loss: 0.330766, Acc: 0.000000\n",
      "[3/10] Loss: 0.328959, Acc: 0.000000\n",
      "[3/10] Loss: 0.324366, Acc: 0.000000\n",
      "[3/10] Loss: 0.324112, Acc: 0.000000\n",
      "Finish 3 epoch, Loss: 0.323317, Acc: 0.000000\n",
      "Test Loss: 0.297635, Acc: 0.000000\n",
      "\n",
      "epoch 4\n",
      "**********\n",
      "[4/10] Loss: 0.306849, Acc: 0.000000\n",
      "[4/10] Loss: 0.309829, Acc: 0.000000\n",
      "[4/10] Loss: 0.310651, Acc: 0.000000\n",
      "[4/10] Loss: 0.308911, Acc: 0.000000\n",
      "[4/10] Loss: 0.308998, Acc: 0.000000\n",
      "[4/10] Loss: 0.306553, Acc: 0.000000\n",
      "Finish 4 epoch, Loss: 0.305961, Acc: 0.000000\n",
      "Test Loss: 0.287965, Acc: 0.000000\n",
      "\n",
      "epoch 5\n",
      "**********\n",
      "[5/10] Loss: 0.297299, Acc: 0.000000\n",
      "[5/10] Loss: 0.295093, Acc: 0.000000\n",
      "[5/10] Loss: 0.298264, Acc: 0.000000\n",
      "[5/10] Loss: 0.294189, Acc: 0.000000\n",
      "[5/10] Loss: 0.297509, Acc: 0.000000\n",
      "[5/10] Loss: 0.294904, Acc: 0.000000\n",
      "Finish 5 epoch, Loss: 0.296112, Acc: 0.000000\n",
      "Test Loss: 0.292823, Acc: 0.000000\n",
      "\n",
      "epoch 6\n",
      "**********\n",
      "[6/10] Loss: 0.313161, Acc: 0.000000\n",
      "[6/10] Loss: 0.298419, Acc: 0.000000\n",
      "[6/10] Loss: 0.293697, Acc: 0.000000\n",
      "[6/10] Loss: 0.287677, Acc: 0.000000\n",
      "[6/10] Loss: 0.288203, Acc: 0.000000\n",
      "[6/10] Loss: 0.288107, Acc: 0.000000\n",
      "Finish 6 epoch, Loss: 0.289483, Acc: 0.000000\n",
      "Test Loss: 0.277459, Acc: 0.000000\n",
      "\n",
      "epoch 7\n",
      "**********\n",
      "[7/10] Loss: 0.293248, Acc: 0.000000\n",
      "[7/10] Loss: 0.280599, Acc: 0.000000\n",
      "[7/10] Loss: 0.281011, Acc: 0.000000\n",
      "[7/10] Loss: 0.281697, Acc: 0.000000\n",
      "[7/10] Loss: 0.283467, Acc: 0.000000\n",
      "[7/10] Loss: 0.284234, Acc: 0.000000\n",
      "Finish 7 epoch, Loss: 0.284034, Acc: 0.000000\n",
      "Test Loss: 0.280763, Acc: 0.000000\n",
      "\n",
      "epoch 8\n",
      "**********\n",
      "[8/10] Loss: 0.282271, Acc: 0.000000\n",
      "[8/10] Loss: 0.281715, Acc: 0.000000\n",
      "[8/10] Loss: 0.284161, Acc: 0.000000\n",
      "[8/10] Loss: 0.284170, Acc: 0.000000\n",
      "[8/10] Loss: 0.281625, Acc: 0.000000\n",
      "[8/10] Loss: 0.280162, Acc: 0.000000\n",
      "Finish 8 epoch, Loss: 0.280001, Acc: 0.000000\n",
      "Test Loss: 0.278737, Acc: 0.000000\n",
      "\n",
      "epoch 9\n",
      "**********\n",
      "[9/10] Loss: 0.284988, Acc: 0.000000\n",
      "[9/10] Loss: 0.281867, Acc: 0.000000\n",
      "[9/10] Loss: 0.280492, Acc: 0.000000\n",
      "[9/10] Loss: 0.277194, Acc: 0.000000\n",
      "[9/10] Loss: 0.276168, Acc: 0.000000\n",
      "[9/10] Loss: 0.277087, Acc: 0.000000\n",
      "Finish 9 epoch, Loss: 0.276842, Acc: 0.000000\n",
      "Test Loss: 0.274287, Acc: 0.000000\n",
      "\n",
      "epoch 10\n",
      "**********\n",
      "[10/10] Loss: 0.269276, Acc: 0.000000\n",
      "[10/10] Loss: 0.268949, Acc: 0.000000\n",
      "[10/10] Loss: 0.268559, Acc: 0.000000\n",
      "[10/10] Loss: 0.270686, Acc: 0.000000\n",
      "[10/10] Loss: 0.273789, Acc: 0.000000\n",
      "[10/10] Loss: 0.274066, Acc: 0.000000\n",
      "Finish 10 epoch, Loss: 0.273869, Acc: 0.000000\n",
      "Test Loss: 0.272836, Acc: 0.000000\n",
      "\n"
     ]
    }
   ],
   "source": [
    "for epoch in range(num_epoches):\n",
    "    print('epoch {}'.format(epoch + 1))\n",
    "    print('*' * 10)\n",
    "    running_loss = 0.0\n",
    "    running_acc = 0.0\n",
    "    for i, data in enumerate(train_loader, 1):\n",
    "        img, label = data\n",
    "        img = img.view(img.size(0), -1)\n",
    "        if torch.cuda.is_available():\n",
    "            img = Variable(img).cuda()\n",
    "            label = Variable(label).cuda()\n",
    "        else:\n",
    "            img = Variable(img)\n",
    "            label = Variable(label)\n",
    "        # 向前传播\n",
    "        out = model(img)\n",
    "        loss = criterion(out, label)\n",
    "        running_loss += loss.data[0] * label.size(0)\n",
    "        _, pred = torch.max(out, 1)\n",
    "        num_correct = (pred == label).sum()\n",
    "        running_acc += num_correct.data[0]\n",
    "        # 向后传播\n",
    "        optimizer.zero_grad()\n",
    "        loss.backward()\n",
    "        optimizer.step()\n",
    "\n",
    "        if i % 300 == 0:\n",
    "            print('[{}/{}] Loss: {:.6f}, Acc: {:.6f}'.format(epoch + 1, num_epoches, running_loss / (batch_size * i), running_acc / (batch_size * i)))\n",
    "    print('Finish {} epoch, Loss: {:.6f}, Acc: {:.6f}'.format(epoch + 1, running_loss / (len(train_dataset)), running_acc / (len(train_dataset))))\n",
    "    model.eval()\n",
    "    eval_loss = 0.\n",
    "    eval_acc = 0.\n",
    "    for data in test_loader:\n",
    "        img, label = data\n",
    "        img = img.view(img.size(0), -1)\n",
    "        if torch.cuda.is_available():\n",
    "            img = Variable(img, volatile=True).cuda()\n",
    "            label = Variable(label, volatile=True).cuda()\n",
    "        else:\n",
    "            img = Variable(img, volatile=True)\n",
    "            label = Variable(label, volatile=True)\n",
    "        out = model(img)\n",
    "        loss = criterion(out, label)\n",
    "        eval_loss += loss.data[0] * label.size(0)\n",
    "        _, pred = torch.max(out, 1)\n",
    "        num_correct = (pred == label).sum()\n",
    "        eval_acc += num_correct.data[0]\n",
    "    print('Test Loss: {:.6f}, Acc: {:.6f}'.format(eval_loss / (len(test_dataset)), eval_acc / (len(test_dataset))))\n",
    "    print()"
   ]
  },
  {
   "cell_type": "markdown",
   "metadata": {},
   "source": [
    "## 4、小结\n",
    "我们这里因为时间有限，就列出来了 10 次迭代的结果。但是从中也可以发现，准确率大大提高了，其实 logistic 回归可以看成简单的一层网络，从这里我们就可以看出来为什么多层网络比单层网络的效果要好，这也是为什么深度学习要叫深度的原因了。\n",
    "\n",
    "下一节，我们介绍卷积神经网络 —— CNN，这个模型也是计算机视觉领域的王牌模型。"
   ]
  }
 ],
 "metadata": {
  "kernelspec": {
   "display_name": "Python 3",
   "language": "python",
   "name": "python3"
  },
  "language_info": {
   "codemirror_mode": {
    "name": "ipython",
    "version": 3
   },
   "file_extension": ".py",
   "mimetype": "text/x-python",
   "name": "python",
   "nbconvert_exporter": "python",
   "pygments_lexer": "ipython3",
   "version": "3.6.3"
  }
 },
 "nbformat": 4,
 "nbformat_minor": 2
}
